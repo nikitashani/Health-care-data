{
 "cells": [
  {
   "cell_type": "markdown",
   "id": "47b76e95-8808-444d-a786-48fd30b01738",
   "metadata": {},
   "source": [
    "<html>\n",
    "<body>\n",
    "<h1 style=\"background-color: #022851;\"><center>\n",
    "    <br><font size=\"+3.5\">\n",
    "    <font color=#FFBF00><b>Python for Data Analytics</b></font>\n",
    "   </font>\n",
    "    <br><font size=\"+1\">\n",
    "    <font color=#FFBF00><b>Final Project:</b> Diabetes Predictor in Pregnant Women: Dataset Analysis </font>\n",
    "   </font> \n",
    "    <br><font size=\"+1\">\n",
    "    <font color=#FFBF00><b>Submission:</b> Neha Jain, Nid Phetchamarat,Katherine Morales Lugo,Caroline Mangira </font>\n",
    "   </font> \n",
    "    </center>\n",
    "</h1>\n",
    "</body>\n",
    "</html>"
   ]
  },
  {
   "cell_type": "markdown",
   "id": "cb2b8977-fd53-48d1-9f86-2752f3840af0",
   "metadata": {},
   "source": [
    "<html>\n",
    "<body>\n",
    "<h1 style=\"background-color: #022851;\"><center>\n",
    "    <br><font size=\"+3.5\">\n",
    "    <font color=#FFBF00><b> Diabetes in Pregnant Women Dataset</b></font>\n",
    "   </font>\n",
    "    <br><font size=\"+1\">\n",
    "    <font color=#FFBF00> Healthcare data analysis </font>\n",
    "   </font> \n",
    "    <br><font size=\"+1\">\n",
    "    <font color=#FFBF00> Neha Jain, Nid Phetchamarat,Katherine Morales Lugo,Caroline Mangira</font>\n",
    "   </font> \n",
    "    </center>\n",
    "</h1>\n",
    "</body>\n",
    "</html>"
   ]
  },
  {
   "cell_type": "markdown",
   "id": "6ae77c61-6091-4863-9fdc-dd7d31e6c002",
   "metadata": {},
   "source": [
    "<html>\n",
    "<h2 style=\"background-color: #022851;\">\n",
    "<font size=\"+2\"><br>\n",
    "    <font color=#FFBF00><b>&nbsp;   &nbsp; Data Ingestion</b></font>\n",
    "    </font>  <br>\n",
    "</h2>\n",
    "</html>"
   ]
  },
  {
   "cell_type": "code",
   "execution_count": null,
   "id": "dafbb8dc-e9ee-4018-8227-32cfb81b34b2",
   "metadata": {},
   "outputs": [],
   "source": [
    "# Dataset Introduction: The Diabetes Prediction Dataset provides health-related attributes needed to predict/measure likelihood of its diagnosis in pregnant women, \n",
    "# glucose levels, blood pressure, BMI, insulin, and a genetic diabetes score, to help predict diabetes risk in pregnant women. \n",
    "# The dataset contains a binary outcome indicating the presence or absence of diabetes, allowing for the exploration of relationships between health indicators and diabetes likelihood. \n",
    "# It is ideal for applying machine learning techniques, feature selection, and data visualization to enhance risk assessment and prediction. \n",
    "# Ethical use and proper citation are encouraged to support collaboration and innovation in diabetes prevention and management."
   ]
  },
  {
   "cell_type": "code",
   "execution_count": null,
   "id": "911f4b5a-9ab8-441a-83f4-4d3ea633f15f",
   "metadata": {},
   "outputs": [],
   "source": [
    "# Hypthesis: Individual with higher Glucose levels and BMI are more likely to have diabetes compared to those with normal glucose levels and BMI."
   ]
  },
  {
   "cell_type": "code",
   "execution_count": null,
   "id": "d59428f9-0a19-46f2-bcdd-3e6c0c90b213",
   "metadata": {},
   "outputs": [],
   "source": [
    "## Imports \n",
    "import pandas as pd\n",
    "import numpy as np\n",
    "import matplotlib.pyplot as plt\n",
    "import seaborn as sns\n",
    "from scipy.stats import f_oneway"
   ]
  },
  {
   "cell_type": "code",
   "execution_count": null,
   "id": "9720b0af-a804-4342-81ba-a11f2d64474c",
   "metadata": {},
   "outputs": [],
   "source": [
    "#Downloading the data \n",
    "df = pd.read_csv('Healthcare-Diabetes.csv')"
   ]
  },
  {
   "cell_type": "markdown",
   "id": "c0f2a77a-2e3d-4034-9073-d9f3e0ad2ca9",
   "metadata": {},
   "source": [
    "<html>\n",
    "<h2 style=\"background-color: #022851;\">\n",
    "<font size=\"+2\"><br>\n",
    "    <font color=#FFBF00><b>&nbsp;   &nbsp; Data Cleaning</b></font>\n",
    "    </font>  <br>\n",
    "</h2>\n",
    "</html>"
   ]
  },
  {
   "cell_type": "code",
   "execution_count": null,
   "id": "3c39ad0c-7917-4bc3-ae38-92a3a07f76f2",
   "metadata": {},
   "outputs": [],
   "source": [
    "## checking data how does it looks like\n",
    "df.head(10)"
   ]
  },
  {
   "cell_type": "code",
   "execution_count": null,
   "id": "ceee3419-22ba-42ef-a387-0762dcde67ed",
   "metadata": {},
   "outputs": [],
   "source": [
    "#dataframe.info() gives a quick overview of your dataset, showing data types, non-null counts, and missing values, helping ensure it's ready for analysis.\n",
    "df.describe()"
   ]
  },
  {
   "cell_type": "code",
   "execution_count": null,
   "id": "b8d418ce-d6de-400a-a897-c35308a5ec06",
   "metadata": {},
   "outputs": [],
   "source": [
    "df.info()"
   ]
  },
  {
   "cell_type": "code",
   "execution_count": null,
   "id": "441331e7-b5f9-4e7a-8555-4c9363d1f241",
   "metadata": {},
   "outputs": [],
   "source": [
    "## Check for Missing Values\n",
    "df.isnull().sum()"
   ]
  },
  {
   "cell_type": "code",
   "execution_count": null,
   "id": "430656a7-416e-4fef-b415-67ba72adf8c2",
   "metadata": {},
   "outputs": [],
   "source": [
    "# Drop missing values even though it doesnt have missing data\n",
    "df=df.dropna()"
   ]
  },
  {
   "cell_type": "code",
   "execution_count": null,
   "id": "c14cbc4a-f6ab-4158-ae3f-65ec9696f416",
   "metadata": {},
   "outputs": [],
   "source": [
    "## Check for Duplicates\n",
    "df.duplicated().sum()"
   ]
  },
  {
   "cell_type": "code",
   "execution_count": null,
   "id": "89e89a76-6707-45fd-bab1-571aa08011cf",
   "metadata": {},
   "outputs": [],
   "source": [
    "## Percentage of missing values in each variable - based on result, we possibly remove SkinThickness and Insulin from our analysis\n",
    "zero_counts = round((df == 0).sum() / len(df) * 100,2)\n",
    "print(zero_counts)"
   ]
  },
  {
   "cell_type": "code",
   "execution_count": null,
   "id": "7baef37d-8a31-4e25-94a2-85c9085faba4",
   "metadata": {},
   "outputs": [],
   "source": [
    "## diabetes rows with NO zero in \"Glucose\", \"BloodPressure\", \"BMI\", and remove SkinThickness and Insulin\n",
    "diabetes_df = df.loc[( (df['Glucose'] > 0) & (df['BloodPressure'] > 0)  & (df['BMI'] > 0) ), ['Glucose', 'BloodPressure', 'BMI', 'DiabetesPedigreeFunction', 'Age', 'Outcome'] ]\n",
    "diabetes_df.head()"
   ]
  },
  {
   "cell_type": "markdown",
   "id": "588fe75a-6c4d-46c1-aa99-1bb19e6e21f8",
   "metadata": {},
   "source": [
    "<html>\n",
    "<h2 style=\"background-color: #022851;\">\n",
    "<font size=\"+2\"><br>\n",
    "    <font color=#FFBF00><b>&nbsp;   &nbsp; Exploratory Data Analysis </b></font>\n",
    "    </font>  <br>\n",
    "</h2>\n",
    "</html>"
   ]
  },
  {
   "cell_type": "code",
   "execution_count": null,
   "id": "7fe2b96d-c9ff-4d9e-8584-6d4f89dc2aec",
   "metadata": {},
   "outputs": [],
   "source": [
    "## Outcome == 0\n",
    "diabetes_df[ (diabetes_df['Outcome'] == 0) ].hist(figsize=(10,10))\n",
    "plt.show()"
   ]
  },
  {
   "cell_type": "code",
   "execution_count": null,
   "id": "6b2afd05-0496-49fd-a812-a901966af50d",
   "metadata": {},
   "outputs": [],
   "source": [
    "## Outcome == 1\n",
    "diabetes_df[ (diabetes_df['Outcome'] == 1) ].hist(figsize=(10,10))\n",
    "plt.show()"
   ]
  },
  {
   "cell_type": "code",
   "execution_count": null,
   "id": "5df4373b-af63-46f3-bd1b-7a98414a5630",
   "metadata": {},
   "outputs": [],
   "source": [
    "grouped_data = diabetes_df.groupby('Outcome')[['Glucose','BloodPressure','DiabetesPedigreeFunction','Age']].mean().reset_index()  \n",
    "grouped_data"
   ]
  },
  {
   "cell_type": "code",
   "execution_count": null,
   "id": "05cd8543-3f51-47af-8493-74eea7edae36",
   "metadata": {},
   "outputs": [],
   "source": [
    "x = np.arange(len(grouped_data['Outcome']))  # Positions for the groups\n",
    "width = 0.2\n",
    "fig, ax = plt.subplots(figsize=(10, 4))  \n",
    "\n",
    "rects1 = ax.bar(x - width * 1.5, grouped_data['Glucose'], width, label='Glucose')  ## Bars for 'Glucose' #x - width/2\n",
    "rects2 = ax.bar(x - width * 0.5, grouped_data['BloodPressure'], width, label='BloodPressure') ## Bars for 'BloodPressure'\n",
    "rects3 = ax.bar(x + width * 0.5, grouped_data['Age'], width, label='Age') ### Bars for 'Age'\n",
    "rects4 = ax.bar(x + width * 1.5, grouped_data['DiabetesPedigreeFunction'], width, label='DiabetesPedigreeFunction') ## Bars for 'DiabetesPedigreeFunction'\n",
    "ax.set_ylabel('Mean Values')\n",
    "ax.set_title('Mean Glucose, BloodPressure, Age, and DiabetesPedigreeFunction by Outcome')\n",
    "ax.set_xticks(x)\n",
    "ax.legend()\n",
    "plt.tight_layout() \n",
    "plt.show()"
   ]
  },
  {
   "cell_type": "markdown",
   "id": "70d20f7a-c772-4cfb-ad36-298a2ec35b16",
   "metadata": {},
   "source": [
    "<html>\n",
    "<h2 style=\"background-color: #022851;\">\n",
    "<font size=\"+2\"><br>\n",
    "    <font color=#FFBF00><b>&nbsp;   &nbsp; Data Modeling </b></font>\n",
    "    </font>  <br>\n",
    "</h2>\n",
    "</html>"
   ]
  },
  {
   "cell_type": "code",
   "execution_count": null,
   "id": "3e849c2b-bcd0-4588-b4f3-f822f8e16f13",
   "metadata": {},
   "outputs": [],
   "source": []
  },
  {
   "cell_type": "markdown",
   "id": "4a51e453-6cd0-4b18-8ae1-6cbe280262f0",
   "metadata": {},
   "source": [
    "<html>\n",
    "<h2 style=\"background-color: #022851;\">\n",
    "<font size=\"+2\"><br>\n",
    "    <font color=#FFBF00><b>&nbsp;   &nbsp; Data Visualization </b></font>\n",
    "    </font>  <br>\n",
    "</h2>\n",
    "</html>"
   ]
  },
  {
   "cell_type": "markdown",
   "id": "b442b885-25ff-4c22-8d4e-97c48bfe257d",
   "metadata": {},
   "source": [
    "<html>\n",
    "<h2 style=\"background-color: #022851;\">\n",
    "<font size=\"+2\"><br>\n",
    "    <font color=#FFBF00><b>&nbsp;   &nbsp; Results & Recommendations </b></font>\n",
    "    </font>  <br>\n",
    "</h2>\n",
    "</html>"
   ]
  },
  {
   "cell_type": "code",
   "execution_count": null,
   "id": "58243ca5-da47-49c1-8496-9598cbec760a",
   "metadata": {},
   "outputs": [],
   "source": []
  }
 ],
 "metadata": {
  "kernelspec": {
   "display_name": "Python 3 (ipykernel)",
   "language": "python",
   "name": "python3"
  },
  "language_info": {
   "codemirror_mode": {
    "name": "ipython",
    "version": 3
   },
   "file_extension": ".py",
   "mimetype": "text/x-python",
   "name": "python",
   "nbconvert_exporter": "python",
   "pygments_lexer": "ipython3",
   "version": "3.12.7"
  }
 },
 "nbformat": 4,
 "nbformat_minor": 5
}
