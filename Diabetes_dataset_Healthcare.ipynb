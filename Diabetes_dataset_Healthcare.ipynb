{
 "cells": [
  {
   "cell_type": "markdown",
   "id": "47b76e95-8808-444d-a786-48fd30b01738",
   "metadata": {},
   "source": [
    "<html>\n",
    "<body>\n",
    "<h1 style=\"background-color: #022851;\"><center>\n",
    "    <br><font size=\"+3.5\">\n",
    "    <font color=#FFBF00><b>Python for Data Analytics</b></font>\n",
    "   </font>\n",
    "    <br><font size=\"+1\">\n",
    "    <font color=#FFBF00><b>Final Project:</b> Diabetes Dataset Analysis </font>\n",
    "   </font> \n",
    "    <br><font size=\"+1\">\n",
    "    <font color=#FFBF00><b>Submission:</b> Neha Jain, Nid Phetchamarat,Katherine Morales Lugo,Caroline Mangira </font>\n",
    "   </font> \n",
    "    </center>\n",
    "</h1>\n",
    "</body>\n",
    "</html>"
   ]
  },
  {
   "cell_type": "markdown",
   "id": "cb2b8977-fd53-48d1-9f86-2752f3840af0",
   "metadata": {},
   "source": [
    "<html>\n",
    "<body>\n",
    "<h1 style=\"background-color: #022851;\"><center>\n",
    "    <br><font size=\"+3.5\">\n",
    "    <font color=#FFBF00><b> Diabetes Dataset</b></font>\n",
    "   </font>\n",
    "    <br><font size=\"+1\">\n",
    "    <font color=#FFBF00> Healthcare data analysis </font>\n",
    "   </font> \n",
    "    <br><font size=\"+1\">\n",
    "    <font color=#FFBF00> Neha Jain, Nid Phetchamarat,Katherine Morales Lugo,Caroline Mangira</font>\n",
    "   </font> \n",
    "    </center>\n",
    "</h1>\n",
    "</body>\n",
    "</html>"
   ]
  },
  {
   "cell_type": "markdown",
   "id": "6ae77c61-6091-4863-9fdc-dd7d31e6c002",
   "metadata": {},
   "source": [
    "<html>\n",
    "<h2 style=\"background-color: #022851;\">\n",
    "<font size=\"+2\"><br>\n",
    "    <font color=#FFBF00><b>&nbsp;   &nbsp; Data Ingestion</b></font>\n",
    "    </font>  <br>\n",
    "</h2>\n",
    "</html>"
   ]
  },
  {
   "cell_type": "code",
   "execution_count": null,
   "id": "dafbb8dc-e9ee-4018-8227-32cfb81b34b2",
   "metadata": {},
   "outputs": [],
   "source": [
    "# Dataset Introduction:"
   ]
  },
  {
   "cell_type": "code",
   "execution_count": null,
   "id": "911f4b5a-9ab8-441a-83f4-4d3ea633f15f",
   "metadata": {},
   "outputs": [],
   "source": [
    "# Hypthesis: "
   ]
  },
  {
   "cell_type": "code",
   "execution_count": null,
   "id": "d59428f9-0a19-46f2-bcdd-3e6c0c90b213",
   "metadata": {},
   "outputs": [],
   "source": [
    "## Imports \n",
    "import pandas as pd\n",
    "import numpy as np\n",
    "import matplotlib.pyplot as plt"
   ]
  },
  {
   "cell_type": "code",
   "execution_count": null,
   "id": "9720b0af-a804-4342-81ba-a11f2d64474c",
   "metadata": {},
   "outputs": [],
   "source": [
    "#Downloading the data from the Kaggle"
   ]
  },
  {
   "cell_type": "markdown",
   "id": "c0f2a77a-2e3d-4034-9073-d9f3e0ad2ca9",
   "metadata": {},
   "source": [
    "<html>\n",
    "<h2 style=\"background-color: #022851;\">\n",
    "<font size=\"+2\"><br>\n",
    "    <font color=#FFBF00><b>&nbsp;   &nbsp; Data Cleaning</b></font>\n",
    "    </font>  <br>\n",
    "</h2>\n",
    "</html>"
   ]
  },
  {
   "cell_type": "code",
   "execution_count": null,
   "id": "3c39ad0c-7917-4bc3-ae38-92a3a07f76f2",
   "metadata": {},
   "outputs": [],
   "source": []
  },
  {
   "cell_type": "markdown",
   "id": "588fe75a-6c4d-46c1-aa99-1bb19e6e21f8",
   "metadata": {},
   "source": [
    "<html>\n",
    "<h2 style=\"background-color: #022851;\">\n",
    "<font size=\"+2\"><br>\n",
    "    <font color=#FFBF00><b>&nbsp;   &nbsp; Exploratory Data Analysis </b></font>\n",
    "    </font>  <br>\n",
    "</h2>\n",
    "</html>"
   ]
  },
  {
   "cell_type": "markdown",
   "id": "70d20f7a-c772-4cfb-ad36-298a2ec35b16",
   "metadata": {},
   "source": [
    "<html>\n",
    "<h2 style=\"background-color: #022851;\">\n",
    "<font size=\"+2\"><br>\n",
    "    <font color=#FFBF00><b>&nbsp;   &nbsp; Data Modeling </b></font>\n",
    "    </font>  <br>\n",
    "</h2>\n",
    "</html>"
   ]
  },
  {
   "cell_type": "markdown",
   "id": "4a51e453-6cd0-4b18-8ae1-6cbe280262f0",
   "metadata": {},
   "source": [
    "<html>\n",
    "<h2 style=\"background-color: #022851;\">\n",
    "<font size=\"+2\"><br>\n",
    "    <font color=#FFBF00><b>&nbsp;   &nbsp; Data Visualization </b></font>\n",
    "    </font>  <br>\n",
    "</h2>\n",
    "</html>"
   ]
  },
  {
   "cell_type": "markdown",
   "id": "b442b885-25ff-4c22-8d4e-97c48bfe257d",
   "metadata": {},
   "source": [
    "<html>\n",
    "<h2 style=\"background-color: #022851;\">\n",
    "<font size=\"+2\"><br>\n",
    "    <font color=#FFBF00><b>&nbsp;   &nbsp; Results & Recommendations </b></font>\n",
    "    </font>  <br>\n",
    "</h2>\n",
    "</html>"
   ]
  },
  {
   "cell_type": "code",
   "execution_count": null,
   "id": "58243ca5-da47-49c1-8496-9598cbec760a",
   "metadata": {},
   "outputs": [],
   "source": []
  }
 ],
 "metadata": {
  "kernelspec": {
   "display_name": "Python 3 (ipykernel)",
   "language": "python",
   "name": "python3"
  },
  "language_info": {
   "codemirror_mode": {
    "name": "ipython",
    "version": 3
   },
   "file_extension": ".py",
   "mimetype": "text/x-python",
   "name": "python",
   "nbconvert_exporter": "python",
   "pygments_lexer": "ipython3",
   "version": "3.12.7"
  }
 },
 "nbformat": 4,
 "nbformat_minor": 5
}
