{
 "cells": [
  {
   "cell_type": "markdown",
   "id": "47b76e95-8808-444d-a786-48fd30b01738",
   "metadata": {},
   "source": [
    "<html>\n",
    "<body>\n",
    "<h1 style=\"background-color: #022851;\"><center>\n",
    "    <br><font size=\"+3.5\">\n",
    "    <font color=#FFBF00><b>Diabetes in Pregnant Women Dataset</b></font>\n",
    "   </font>\n",
    "    <br><font size=\"+1\">\n",
    "    <font color=#FFBF00><b>Final Project:</b> Diabetes Predictor in Pregnant Women: Dataset Analysis Project </font>\n",
    "   </font> \n",
    "    <br><font size=\"+1\">\n",
    "    <font color=#FFBF00><b>Submission:</b> Neha Jain, Nid Phetchamarat,Katherine Morales Lugo,Caroline Mangira </font>\n",
    "    <br><font size=\"+1\">\n",
    "    <font color=#FFBF00><b>Today Date:</b> : 8/24/2025 </font>\n",
    "   </font> \n",
    "    </center>\n",
    "</h1>\n",
    "</body>\n",
    "</html>"
   ]
  },
  {
   "cell_type": "markdown",
   "id": "6ae77c61-6091-4863-9fdc-dd7d31e6c002",
   "metadata": {},
   "source": [
    "<html>\n",
    "<h2 style=\"background-color: #022851;\">\n",
    "<font size=\"+2\"><br>\n",
    "    <font color=#FFBF00><b>&nbsp;   &nbsp; Data Ingestion</b></font>\n",
    "    </font>  <br>\n",
    "</h2>\n",
    "</html>"
   ]
  },
  {
   "cell_type": "markdown",
   "id": "dafbb8dc-e9ee-4018-8227-32cfb81b34b2",
   "metadata": {},
   "source": [
    "<html>\n",
    "<h3> Dataset Introduction: </h3>\n",
    "The Diabetes Prediction Dataset provides health-related attributes, including pregnancies, glucose levels, blood pressure, BMI, insulin, and a genetic diabetes score, to help predict diabetes risk. The dataset contains a binary outcome indicating the presence or absence of diabetes, allowing for the exploration of relationships between health indicators and diabetes likelihood. It is ideal for applying machine learning techniques, feature selection, and data visualization to enhance risk assessment and prediction. \n",
    "# Ethical use and proper citation are encouraged to support collaboration and innovation in diabetes prevention and management.\n",
    "</html>"
   ]
  },
  {
   "cell_type": "markdown",
   "id": "911f4b5a-9ab8-441a-83f4-4d3ea633f15f",
   "metadata": {},
   "source": [
    "<html>\n",
    "<h3>Hypothesis:</h3> \n",
    "Individuals with higher Glucose levels and BMI are more likely to have diabetes compared to those with normal glucose levels and BMI.\n",
    "</html>"
   ]
  },
  {
   "cell_type": "code",
   "execution_count": null,
   "id": "d59428f9-0a19-46f2-bcdd-3e6c0c90b213",
   "metadata": {},
   "outputs": [],
   "source": [
    "## Imports \n",
    "import pandas as pd\n",
    "import numpy as np\n",
    "import matplotlib.pyplot as plt\n",
    "import seaborn as sns"
   ]
  },
  {
   "cell_type": "code",
   "execution_count": null,
   "id": "9720b0af-a804-4342-81ba-a11f2d64474c",
   "metadata": {},
   "outputs": [],
   "source": [
    "## Downloading the data \n",
    "diabetes_df = pd.read_csv('Healthcare-Diabetes.csv')"
   ]
  },
  {
   "cell_type": "markdown",
   "id": "c0f2a77a-2e3d-4034-9073-d9f3e0ad2ca9",
   "metadata": {},
   "source": [
    "<html>\n",
    "<h2 style=\"background-color: #022851;\">\n",
    "<font size=\"+2\"><br>\n",
    "    <font color=#FFBF00><b>&nbsp;   &nbsp; Data Cleaning</b></font>\n",
    "    </font>  <br>\n",
    "</h2>\n",
    "</html>"
   ]
  },
  {
   "cell_type": "code",
   "execution_count": null,
   "id": "3c39ad0c-7917-4bc3-ae38-92a3a07f76f2",
   "metadata": {},
   "outputs": [],
   "source": [
    "## checking data how does it looks like\n",
    "diabetes_df.head(10)"
   ]
  },
  {
   "cell_type": "code",
   "execution_count": null,
   "id": "ceee3419-22ba-42ef-a387-0762dcde67ed",
   "metadata": {},
   "outputs": [],
   "source": [
    "## gives a quick overview of your dataset, showing data types, non-null counts, and missing values, helping ensure it's ready for analysis.\n",
    "diabetes_df.describe()"
   ]
  },
  {
   "cell_type": "code",
   "execution_count": null,
   "id": "b8d418ce-d6de-400a-a897-c35308a5ec06",
   "metadata": {},
   "outputs": [],
   "source": [
    "## See concise summary of the dataframe's stucture and content\n",
    "diabetes_df.info()"
   ]
  },
  {
   "cell_type": "code",
   "execution_count": null,
   "id": "441331e7-b5f9-4e7a-8555-4c9363d1f241",
   "metadata": {},
   "outputs": [],
   "source": [
    "## Check for Missing Values\n",
    "diabetes_df.isnull().sum()"
   ]
  },
  {
   "cell_type": "code",
   "execution_count": null,
   "id": "8d4c8b31",
   "metadata": {},
   "outputs": [],
   "source": [
    "## Check for Duplicates\n",
    "diabetes_df.duplicated().sum()"
   ]
  },
  {
   "cell_type": "code",
   "execution_count": null,
   "id": "2569b20e",
   "metadata": {},
   "outputs": [],
   "source": [
    "## Percentage of missing values in each variable - based on result, we possibly remove SkinThickness and Insulin from our analysis\n",
    "zero_counts = round((diabetes_df == 0).sum() / len(diabetes_df) * 100,2)\n",
    "print(zero_counts)"
   ]
  },
  {
   "cell_type": "code",
   "execution_count": null,
   "id": "d3d4324d",
   "metadata": {},
   "outputs": [],
   "source": [
    "## Replacing all the zero values with NaN to handle missing or invalid entries\n",
    "diabetes_df['Glucose'] = diabetes_df['Glucose'].replace(0, np.nan)\n",
    "diabetes_df['BloodPressure'] = diabetes_df['BloodPressure'].replace(0, np.nan)\n",
    "diabetes_df['SkinThickness'] = diabetes_df['SkinThickness'].replace(0, np.nan)\n",
    "diabetes_df['Insulin'] = diabetes_df['Insulin'].replace(0, np.nan)\n",
    "diabetes_df['BMI'] = diabetes_df['BMI'].replace(0, np.nan)\n",
    "diabetes_df.head(10)"
   ]
  },
  {
   "cell_type": "code",
   "execution_count": null,
   "id": "7bc2f214",
   "metadata": {},
   "outputs": [],
   "source": [
    "## Rechecking for the Missing Values after replacing zero values with NaN\n",
    "diabetes_df.isnull().sum()"
   ]
  },
  {
   "cell_type": "markdown",
   "id": "588fe75a-6c4d-46c1-aa99-1bb19e6e21f8",
   "metadata": {},
   "source": [
    "<html>\n",
    "<h2 style=\"background-color: #022851;\">\n",
    "<font size=\"+2\"><br>\n",
    "    <font color=#FFBF00><b>&nbsp;   &nbsp; Exploratory Data Analysis </b></font>\n",
    "    </font>  <br>\n",
    "</h2>\n",
    "</html>"
   ]
  },
  {
   "cell_type": "code",
   "execution_count": null,
   "id": "f7bfa59a",
   "metadata": {},
   "outputs": [],
   "source": [
    "## Use a pairplot to visualize the relationships and correlations between variables in the data, aiding further analysis.\n",
    "diabetes_numerics = diabetes_df[['Glucose','BloodPressure','SkinThickness','BMI','DiabetesPedigreeFunction','Age']]\n",
    "\n",
    "## Basic correlogram\n",
    "g = sns.pairplot(diabetes_numerics)\n",
    "g.fig.suptitle('Correlogram of Health Metrics', y=1.02) \n",
    "plt.show()"
   ]
  },
  {
   "cell_type": "markdown",
   "id": "c87bc944",
   "metadata": {},
   "source": [
    "Observation: Skin Thickness and BMI are highly correlated, will need to consider this in regression model, but might not be an issue if we choose to \n",
    "leave out Skin thickness due to high proportion of missingness"
   ]
  },
  {
   "cell_type": "code",
   "execution_count": null,
   "id": "b9cec661",
   "metadata": {},
   "outputs": [],
   "source": [
    "# Checking a relationship between Pregnancies and Diabetes\n",
    "plt.figure(figsize=(6, 4))\n",
    "sns.boxplot(x='Outcome', y='Pregnancies', data=diabetes_df)\n",
    "\n",
    "# Add title and labels for clarity\n",
    "plt.title('Pregnancies by Diabetes')\n",
    "plt.xlabel('Diabetes')\n",
    "plt.ylabel('Pregnancies')\n",
    "\n",
    "# Display the plot\n",
    "plt.show()"
   ]
  },
  {
   "cell_type": "markdown",
   "id": "18584f9b",
   "metadata": {},
   "source": [
    "People with more pregnancies are more likely to get Diabetes."
   ]
  },
  {
   "cell_type": "code",
   "execution_count": null,
   "id": "c5132b88",
   "metadata": {},
   "outputs": [],
   "source": [
    "# Checking a relationship between Glucose and Diabetes\n",
    "plt.figure(figsize=(6, 4))\n",
    "sns.boxplot(x='Outcome', y='Glucose', data=diabetes_df)\n",
    "\n",
    "# Add title and labels for clarity\n",
    "plt.title('Glucose by Diabetes')\n",
    "plt.xlabel('Diabetes')\n",
    "plt.ylabel('Glucose')\n",
    "\n",
    "# Display the plot\n",
    "plt.show()"
   ]
  },
  {
   "cell_type": "markdown",
   "id": "09c17dd4",
   "metadata": {},
   "source": [
    "Observation: People with diabetes have higher glucose"
   ]
  },
  {
   "cell_type": "code",
   "execution_count": null,
   "id": "dc2ec83b",
   "metadata": {},
   "outputs": [],
   "source": [
    "# Checking a relationship between BloodPressure and Diabetes\n",
    "plt.figure(figsize=(6, 4))\n",
    "sns.boxplot(x='Outcome', y='BloodPressure', data=diabetes_df)\n",
    "\n",
    "# Add title and labels for clarity\n",
    "plt.title('BloodPressure by Diabetes ')\n",
    "plt.xlabel('Diabetes')\n",
    "plt.ylabel('BloodPressure')\n",
    "\n",
    "# Display the plot\n",
    "plt.show()"
   ]
  },
  {
   "cell_type": "markdown",
   "id": "b925d4f4",
   "metadata": {},
   "source": [
    "Observation: People with diabetes have higher BloodPressure, but people without diabetes shows more outliers.  Based on the median values, they are very close.  Therefore BloodPressure might not be a good metrics in our furthur analysis."
   ]
  },
  {
   "cell_type": "code",
   "execution_count": null,
   "id": "4052b74a",
   "metadata": {},
   "outputs": [],
   "source": [
    "# Checking a relationship between BMI and Diabetes\n",
    "plt.figure(figsize=(6, 4))\n",
    "sns.boxplot(x='Outcome', y='BMI', data=diabetes_df)\n",
    "\n",
    "# Add title and labels for clarity\n",
    "plt.title('BMI by Diabetes ')\n",
    "plt.xlabel('Diabetes')\n",
    "plt.ylabel('BMI')\n",
    "\n",
    "# Display the plot\n",
    "plt.show()"
   ]
  },
  {
   "cell_type": "markdown",
   "id": "6d89950a",
   "metadata": {},
   "source": [
    "Observation: People with diabetes have higher BMI and outliers too."
   ]
  },
  {
   "cell_type": "code",
   "execution_count": null,
   "id": "54d51ade",
   "metadata": {},
   "outputs": [],
   "source": [
    "# Checking a relationship between DiabetesPedigreeFunction and Diabetes\n",
    "plt.figure(figsize=(6, 4))\n",
    "sns.boxplot(x='Outcome', y='DiabetesPedigreeFunction', data=diabetes_df)\n",
    "\n",
    "# Add title and labels for clarity\n",
    "plt.title('DiabetesPedigreeFunction by Diabetes ')\n",
    "plt.xlabel('Diabetes')\n",
    "plt.ylabel('DiabetesPedigreeFunction')\n",
    "\n",
    "# Display the plot\n",
    "plt.show()"
   ]
  },
  {
   "cell_type": "markdown",
   "id": "f18fb590",
   "metadata": {},
   "source": [
    "Observation: Both diabetic and non-diabetic groups show numerous outliers in the DiabetesPedigreeFunction. Additionally, the median values for the two groups are quite similar, suggesting it may not be a highly useful metric for further analysis."
   ]
  },
  {
   "cell_type": "code",
   "execution_count": null,
   "id": "8841c999",
   "metadata": {},
   "outputs": [],
   "source": [
    "# Checking a relationship between Age and Diabetes\n",
    "plt.figure(figsize=(6, 4))\n",
    "sns.boxplot(x='Outcome', y='Age', data=diabetes_df)\n",
    "\n",
    "# Add title and labels for clarity\n",
    "plt.title('Age by Diabetes')\n",
    "plt.xlabel('Diabetes')\n",
    "plt.ylabel('Age')\n",
    "\n",
    "# Display the plot\n",
    "plt.show()"
   ]
  },
  {
   "cell_type": "markdown",
   "id": "feffc019",
   "metadata": {},
   "source": [
    "Based on the Box plots and averages above, people with diabetes tend to have higher glucose, BMI, Skin thickness, Blood Pressure,\n",
    "Age, number of children and Diabetes Pedigree function compared to those without diabetes."
   ]
  },
  {
   "cell_type": "code",
   "execution_count": null,
   "id": "5df4373b-af63-46f3-bd1b-7a98414a5630",
   "metadata": {},
   "outputs": [],
   "source": [
    "grouped_data = diabetes_df.groupby('Outcome')[['Glucose','BloodPressure','DiabetesPedigreeFunction','Age']].mean().reset_index()\n",
    "grouped_data"
   ]
  },
  {
   "cell_type": "code",
   "execution_count": null,
   "id": "05cd8543-3f51-47af-8493-74eea7edae36",
   "metadata": {},
   "outputs": [],
   "source": [
    "## this graph offers a bird's eye perspective across different independent variables and the outcome (the dependent variable)\n",
    "x = np.arange(len(grouped_data['Outcome']))  # Positions for the groups\n",
    "width = 0.2\n",
    "fig, ax = plt.subplots(figsize=(8, 4))  \n",
    "\n",
    "rects1 = ax.bar(x - width * 1.5, grouped_data['Glucose'], width, label='Glucose')  ## Bars for 'Glucose' #x - width/2\n",
    "rects2 = ax.bar(x - width * 0.5, grouped_data['BloodPressure'], width, label='BloodPressure') ## Bars for 'BloodPressure'\n",
    "rects3 = ax.bar(x + width * 0.5, grouped_data['Age'], width, label='Age') ### Bars for 'Age'\n",
    "rects4 = ax.bar(x + width * 1.5, grouped_data['DiabetesPedigreeFunction'], width, label='DiabetesPedigreeFunction') ## Bars for 'DiabetesPedigreeFunction'\n",
    "ax.set_xlabel('Outcome')\n",
    "ax.set_ylabel('Mean Values')\n",
    "ax.set_title('Mean Glucose, BloodPressure, Age, and DiabetesPedigreeFunction by Outcome')\n",
    "ax.set_xticks(x)\n",
    "ax.legend()\n",
    "plt.tight_layout() \n",
    "plt.show()"
   ]
  },
  {
   "cell_type": "markdown",
   "id": "46f394e1",
   "metadata": {},
   "source": [
    "Observation: People with diabetes have higher Glucose, BloodPressure, and Age comparing to non-diabetes group. DiabetesPedigreeFunction doesn't seem to play much role in this analysis, as median has 0.429734 and 0.550500."
   ]
  },
  {
   "cell_type": "markdown",
   "id": "f3528508",
   "metadata": {},
   "source": [
    "We have identified some outliers in the dataset, which will be addressed during further analysis."
   ]
  },
  {
   "cell_type": "markdown",
   "id": "70d20f7a-c772-4cfb-ad36-298a2ec35b16",
   "metadata": {},
   "source": [
    "<html>\n",
    "<h2 style=\"background-color: #022851;\">\n",
    "<font size=\"+2\"><br>\n",
    "    <font color=#FFBF00><b>&nbsp;   &nbsp; Data Modeling </b></font>\n",
    "    </font>  <br>\n",
    "</h2>\n",
    "</html>"
   ]
  },
  {
   "cell_type": "markdown",
   "id": "6ebc9c36-7381-44f0-bd17-c627ca02f06f",
   "metadata": {},
   "source": [
    "Mathematically, this line follows an equation the looks like the following: <br>\n",
    "\\begin{equation}\n",
    "Outcome = {\\beta}_0 + {\\beta}_1 (Glucose)+ {\\beta}_2 (BMI)\n",
    "\\end{equation}\n"
   ]
  },
  {
   "cell_type": "code",
   "execution_count": null,
   "id": "0a30be5b-102d-4d64-8e4e-11d4179c3f80",
   "metadata": {},
   "outputs": [],
   "source": [
    "# In matrix form, this looks like the following: "
   ]
  },
  {
   "cell_type": "markdown",
   "id": "6cc68f8b-6ca3-478d-9a2f-60896783ef25",
   "metadata": {},
   "source": [
    "\\begin{equation}\n",
    "\\begin{bmatrix}\n",
    " y_1 \\\\ \\vdots \\\\ y_{34} \n",
    " \\end{bmatrix}\n",
    " =\n",
    " \\begin{pmatrix}\n",
    "  -y_0 && u & u\\\\\n",
    "  \\vdots && \\vdots & \\vdots \\\\\n",
    "  -y_{33} && u & u\n",
    "  \\end{pmatrix}\n",
    "  \\times\n",
    "  \\begin{pmatrix}\n",
    "  a \\\\ b_0 \\\\ b_1\n",
    "  \\end{pmatrix}\n",
    "\\end{equation}"
   ]
  },
  {
   "cell_type": "code",
   "execution_count": null,
   "id": "cfe2b327-0ac4-4e30-bfb9-14741d0e3d1b",
   "metadata": {},
   "outputs": [],
   "source": [
    "import plotly.express as px\n",
    "import matplotlib.pyplot as plt \n",
    "import seaborn as sns\n",
    "import statsmodels.api as sm"
   ]
  },
  {
   "cell_type": "code",
   "execution_count": null,
   "id": "3253bf8f-e79e-49dc-81f5-408604681bbb",
   "metadata": {},
   "outputs": [],
   "source": [
    "# Define target and predictor variables\n",
    "y = diabetes_df['Outcome']  # Binary target variable (0 or 1)\n",
    "x = diabetes_df[['Glucose','BMI']]  # Predictor variables\n",
    "\n",
    "# Add a constant to the predictors for the intercept\n",
    "x = sm.add_constant(x)\n",
    "\n",
    "# Check for missing values\n",
    "print(\"Missing values in predictors:\\n\", x.isnull().sum())\n",
    "print(\"Missing values in target:\\n\", y.isnull().sum())\n",
    "\n",
    "# Handle missing values by dropping rows with NaNs\n",
    "data = pd.concat([x, y], axis=1).dropna()  # Drop rows with missing data\n",
    "x = data.iloc[:, :-1]  # Predictors\n",
    "y = data.iloc[:, -1]   # Target\n",
    "\n",
    "# Fit the logistic regression model\n",
    "logit_model = sm.Logit(y, x).fit()\n",
    "\n",
    "# View the model summary\n",
    "print(logit_model.summary())"
   ]
  },
  {
   "cell_type": "code",
   "execution_count": null,
   "id": "74af1d3a-994f-42de-b2ce-a85b446b7171",
   "metadata": {},
   "outputs": [],
   "source": [
    "# Both Glucose and BMI are statistically significant predictors (p < 0.05), \n",
    "# with higher values of Glucose and BMI being associated with an increased likelihood of a positive outcome (Outcome = 1)."
   ]
  },
  {
   "cell_type": "markdown",
   "id": "a61cfac1-dcfc-4d97-9cfc-9c2b33ac0d53",
   "metadata": {},
   "source": [
    "\\begin{equation}\n",
    "\\hat{Outcome}_i =  -7.7315  + 0.0374 * (Glucose) + 0.0720 * (BMI)\n",
    "\\end{equation}"
   ]
  },
  {
   "cell_type": "markdown",
   "id": "4a51e453-6cd0-4b18-8ae1-6cbe280262f0",
   "metadata": {},
   "source": [
    "<html>\n",
    "<h2 style=\"background-color: #022851;\">\n",
    "<font size=\"+2\"><br>\n",
    "    <font color=#FFBF00><b>&nbsp;   &nbsp; Data Visualization </b></font>\n",
    "    </font>  <br>\n",
    "</h2>\n",
    "</html>"
   ]
  },
  {
   "cell_type": "code",
   "execution_count": null,
   "id": "f8163195-2d8e-44e1-a153-5d588e08872d",
   "metadata": {},
   "outputs": [],
   "source": []
  },
  {
   "cell_type": "markdown",
   "id": "b442b885-25ff-4c22-8d4e-97c48bfe257d",
   "metadata": {},
   "source": [
    "<html>\n",
    "<h2 style=\"background-color: #022851;\">\n",
    "<font size=\"+2\"><br>\n",
    "    <font color=#FFBF00><b>&nbsp;   &nbsp; Results & Recommendations </b></font>\n",
    "    </font>  <br>\n",
    "</h2>\n",
    "</html>"
   ]
  },
  {
   "cell_type": "code",
   "execution_count": null,
   "id": "58243ca5-da47-49c1-8496-9598cbec760a",
   "metadata": {},
   "outputs": [],
   "source": []
  }
 ],
 "metadata": {
  "kernelspec": {
   "display_name": "Python 3 (ipykernel)",
   "language": "python",
   "name": "python3"
  },
  "language_info": {
   "codemirror_mode": {
    "name": "ipython",
    "version": 3
   },
   "file_extension": ".py",
   "mimetype": "text/x-python",
   "name": "python",
   "nbconvert_exporter": "python",
   "pygments_lexer": "ipython3",
   "version": "3.12.7"
  }
 },
 "nbformat": 4,
 "nbformat_minor": 5
}
